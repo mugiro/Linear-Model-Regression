{
 "cells": [
  {
   "cell_type": "markdown",
   "metadata": {},
   "source": [
    "## DS05 - Data Science with Python - Linear Model Regression (Solutions)\n"
   ]
  },
  {
   "cell_type": "code",
   "execution_count": 1,
   "metadata": {},
   "outputs": [],
   "source": [
    "import numpy as np \n",
    "import matplotlib.pyplot as plt\n",
    "import pandas as pd\n",
    "from sklearn.linear_model import LinearRegression\n",
    "from sklearn.model_selection import train_test_split\n",
    "%matplotlib inline"
   ]
  },
  {
   "cell_type": "markdown",
   "metadata": {},
   "source": [
    "### Debugging Problem\n",
    "The dataset used in the problem below consists of two columns: one for years of experience and another for salaries. An attempt was made to apply a linear regression model to the data. Debug the code to fix the model. Note, since this is a small data set I've chosen test size to be $0.5$ so that there are enough test points to plot a best fit line encompassing most of the data. This may reduce the score of the model but the line plots shouldn't change too drastically as a result. The score should be consistently above $0.9$ when running the code multiple times."
   ]
  },
  {
   "cell_type": "code",
   "execution_count": 2,
   "metadata": {
    "scrolled": false
   },
   "outputs": [
    {
     "data": {
      "text/html": [
       "<div>\n",
       "<style scoped>\n",
       "    .dataframe tbody tr th:only-of-type {\n",
       "        vertical-align: middle;\n",
       "    }\n",
       "\n",
       "    .dataframe tbody tr th {\n",
       "        vertical-align: top;\n",
       "    }\n",
       "\n",
       "    .dataframe thead th {\n",
       "        text-align: right;\n",
       "    }\n",
       "</style>\n",
       "<table border=\"1\" class=\"dataframe\">\n",
       "  <thead>\n",
       "    <tr style=\"text-align: right;\">\n",
       "      <th></th>\n",
       "      <th>YearsExperience</th>\n",
       "      <th>Salary</th>\n",
       "    </tr>\n",
       "  </thead>\n",
       "  <tbody>\n",
       "    <tr>\n",
       "      <td>0</td>\n",
       "      <td>1.1</td>\n",
       "      <td>39343.0</td>\n",
       "    </tr>\n",
       "    <tr>\n",
       "      <td>1</td>\n",
       "      <td>1.3</td>\n",
       "      <td>46205.0</td>\n",
       "    </tr>\n",
       "    <tr>\n",
       "      <td>2</td>\n",
       "      <td>1.5</td>\n",
       "      <td>37731.0</td>\n",
       "    </tr>\n",
       "    <tr>\n",
       "      <td>3</td>\n",
       "      <td>2.0</td>\n",
       "      <td>43525.0</td>\n",
       "    </tr>\n",
       "    <tr>\n",
       "      <td>4</td>\n",
       "      <td>2.2</td>\n",
       "      <td>39891.0</td>\n",
       "    </tr>\n",
       "    <tr>\n",
       "      <td>5</td>\n",
       "      <td>2.9</td>\n",
       "      <td>56642.0</td>\n",
       "    </tr>\n",
       "    <tr>\n",
       "      <td>6</td>\n",
       "      <td>3.0</td>\n",
       "      <td>60150.0</td>\n",
       "    </tr>\n",
       "    <tr>\n",
       "      <td>7</td>\n",
       "      <td>3.2</td>\n",
       "      <td>54445.0</td>\n",
       "    </tr>\n",
       "    <tr>\n",
       "      <td>8</td>\n",
       "      <td>3.2</td>\n",
       "      <td>64445.0</td>\n",
       "    </tr>\n",
       "    <tr>\n",
       "      <td>9</td>\n",
       "      <td>3.7</td>\n",
       "      <td>57189.0</td>\n",
       "    </tr>\n",
       "    <tr>\n",
       "      <td>10</td>\n",
       "      <td>3.9</td>\n",
       "      <td>63218.0</td>\n",
       "    </tr>\n",
       "    <tr>\n",
       "      <td>11</td>\n",
       "      <td>4.0</td>\n",
       "      <td>55794.0</td>\n",
       "    </tr>\n",
       "    <tr>\n",
       "      <td>12</td>\n",
       "      <td>4.0</td>\n",
       "      <td>56957.0</td>\n",
       "    </tr>\n",
       "    <tr>\n",
       "      <td>13</td>\n",
       "      <td>4.1</td>\n",
       "      <td>57081.0</td>\n",
       "    </tr>\n",
       "    <tr>\n",
       "      <td>14</td>\n",
       "      <td>4.5</td>\n",
       "      <td>61111.0</td>\n",
       "    </tr>\n",
       "    <tr>\n",
       "      <td>15</td>\n",
       "      <td>4.9</td>\n",
       "      <td>67938.0</td>\n",
       "    </tr>\n",
       "    <tr>\n",
       "      <td>16</td>\n",
       "      <td>5.1</td>\n",
       "      <td>66029.0</td>\n",
       "    </tr>\n",
       "    <tr>\n",
       "      <td>17</td>\n",
       "      <td>5.3</td>\n",
       "      <td>83088.0</td>\n",
       "    </tr>\n",
       "    <tr>\n",
       "      <td>18</td>\n",
       "      <td>5.9</td>\n",
       "      <td>81363.0</td>\n",
       "    </tr>\n",
       "    <tr>\n",
       "      <td>19</td>\n",
       "      <td>6.0</td>\n",
       "      <td>93940.0</td>\n",
       "    </tr>\n",
       "    <tr>\n",
       "      <td>20</td>\n",
       "      <td>6.8</td>\n",
       "      <td>91738.0</td>\n",
       "    </tr>\n",
       "    <tr>\n",
       "      <td>21</td>\n",
       "      <td>7.1</td>\n",
       "      <td>98273.0</td>\n",
       "    </tr>\n",
       "    <tr>\n",
       "      <td>22</td>\n",
       "      <td>7.9</td>\n",
       "      <td>101302.0</td>\n",
       "    </tr>\n",
       "    <tr>\n",
       "      <td>23</td>\n",
       "      <td>8.2</td>\n",
       "      <td>113812.0</td>\n",
       "    </tr>\n",
       "    <tr>\n",
       "      <td>24</td>\n",
       "      <td>8.7</td>\n",
       "      <td>109431.0</td>\n",
       "    </tr>\n",
       "    <tr>\n",
       "      <td>25</td>\n",
       "      <td>9.0</td>\n",
       "      <td>105582.0</td>\n",
       "    </tr>\n",
       "    <tr>\n",
       "      <td>26</td>\n",
       "      <td>9.5</td>\n",
       "      <td>116969.0</td>\n",
       "    </tr>\n",
       "    <tr>\n",
       "      <td>27</td>\n",
       "      <td>9.6</td>\n",
       "      <td>112635.0</td>\n",
       "    </tr>\n",
       "    <tr>\n",
       "      <td>28</td>\n",
       "      <td>10.3</td>\n",
       "      <td>122391.0</td>\n",
       "    </tr>\n",
       "    <tr>\n",
       "      <td>29</td>\n",
       "      <td>10.5</td>\n",
       "      <td>121872.0</td>\n",
       "    </tr>\n",
       "  </tbody>\n",
       "</table>\n",
       "</div>"
      ],
      "text/plain": [
       "    YearsExperience    Salary\n",
       "0               1.1   39343.0\n",
       "1               1.3   46205.0\n",
       "2               1.5   37731.0\n",
       "3               2.0   43525.0\n",
       "4               2.2   39891.0\n",
       "5               2.9   56642.0\n",
       "6               3.0   60150.0\n",
       "7               3.2   54445.0\n",
       "8               3.2   64445.0\n",
       "9               3.7   57189.0\n",
       "10              3.9   63218.0\n",
       "11              4.0   55794.0\n",
       "12              4.0   56957.0\n",
       "13              4.1   57081.0\n",
       "14              4.5   61111.0\n",
       "15              4.9   67938.0\n",
       "16              5.1   66029.0\n",
       "17              5.3   83088.0\n",
       "18              5.9   81363.0\n",
       "19              6.0   93940.0\n",
       "20              6.8   91738.0\n",
       "21              7.1   98273.0\n",
       "22              7.9  101302.0\n",
       "23              8.2  113812.0\n",
       "24              8.7  109431.0\n",
       "25              9.0  105582.0\n",
       "26              9.5  116969.0\n",
       "27              9.6  112635.0\n",
       "28             10.3  122391.0\n",
       "29             10.5  121872.0"
      ]
     },
     "execution_count": 2,
     "metadata": {},
     "output_type": "execute_result"
    }
   ],
   "source": [
    "## SETUP CODE CELL DO NOT CHANGE\n",
    "# Convert csv to data frame\n",
    "salary_data = pd.read_csv(\"Salary_Data.csv\")\n",
    "salary_data"
   ]
  },
  {
   "cell_type": "code",
   "execution_count": 5,
   "metadata": {},
   "outputs": [
    {
     "ename": "NameError",
     "evalue": "name 'regressor' is not defined",
     "output_type": "error",
     "traceback": [
      "\u001b[1;31m---------------------------------------------------------------------------\u001b[0m",
      "\u001b[1;31mNameError\u001b[0m                                 Traceback (most recent call last)",
      "\u001b[1;32m<ipython-input-5-334aaccb2748>\u001b[0m in \u001b[0;36m<module>\u001b[1;34m\u001b[0m\n\u001b[0;32m     10\u001b[0m \u001b[1;33m\u001b[0m\u001b[0m\n\u001b[0;32m     11\u001b[0m \u001b[1;31m# Training the regressor\u001b[0m\u001b[1;33m\u001b[0m\u001b[1;33m\u001b[0m\u001b[1;33m\u001b[0m\u001b[0m\n\u001b[1;32m---> 12\u001b[1;33m \u001b[0mregressor\u001b[0m\u001b[1;33m.\u001b[0m\u001b[0mfit\u001b[0m\u001b[1;33m(\u001b[0m\u001b[0mX_train\u001b[0m\u001b[1;33m,\u001b[0m \u001b[0my_train\u001b[0m\u001b[1;33m)\u001b[0m\u001b[1;33m\u001b[0m\u001b[1;33m\u001b[0m\u001b[0m\n\u001b[0m\u001b[0;32m     13\u001b[0m \u001b[1;33m\u001b[0m\u001b[0m\n\u001b[0;32m     14\u001b[0m \u001b[1;31m# Obtaining predicted results from the test data\u001b[0m\u001b[1;33m\u001b[0m\u001b[1;33m\u001b[0m\u001b[1;33m\u001b[0m\u001b[0m\n",
      "\u001b[1;31mNameError\u001b[0m: name 'regressor' is not defined"
     ]
    }
   ],
   "source": [
    "## PROBLEM CODE CELL\n",
    "# Independent variable\n",
    "X = salary_data[\"YearsExperience\"].values\n",
    "\n",
    "# Dependent variable\n",
    "y = salary_data[\"Salary\"].values\n",
    "\n",
    "# Preprocessing into training and test sets\n",
    "X_train, y_train, X_test, y_test = train_test_split(X,y,test_size=0.5)\n",
    "\n",
    "# Training the regressor\n",
    "regressor.fit(X_train, y_train)\n",
    "\n",
    "# Obtaining predicted results from the test data\n",
    "y_pred = fit.predict(X_test)\n",
    "\n",
    "# Plotting the line of best fit\n",
    "plt.figure()\n",
    "plt.grid(True)\n",
    "plt.plot(X,y,\"r.\")\n",
    "plt.plot(X_test,y_pred)\n",
    "plt.title(\"Experience vs Salary\")\n",
    "plt.xlabel(\"Experience\")\n",
    "plt.ylabel(\"Salary\")\n",
    "\n",
    "# Scores the model\n",
    "fit.score(X_test,y_test)"
   ]
  },
  {
   "cell_type": "code",
   "execution_count": 6,
   "metadata": {
    "scrolled": true
   },
   "outputs": [
    {
     "data": {
      "text/plain": [
       "0.9572434697135243"
      ]
     },
     "execution_count": 6,
     "metadata": {},
     "output_type": "execute_result"
    },
    {
     "data": {
      "image/png": "[encoded data removed]",
      "text/plain": [
       "<Figure size 432x288 with 1 Axes>"
      ]
     },
     "metadata": {
      "needs_background": "light"
     },
     "output_type": "display_data"
    }
   ],
   "source": [
    "## SOLUTION CODE CELL\n",
    "# Independent variable\n",
    "X = salary_data[\"YearsExperience\"].values.reshape(-1,1)\n",
    "\n",
    "# Dependent variable\n",
    "y = salary_data[\"Salary\"].values.reshape(-1,1)\n",
    "\n",
    "# Preprocessing into training and test sets\n",
    "X_train, X_test, y_train, y_test = train_test_split(X,y,test_size=0.5)\n",
    "\n",
    "# Defining our regressor\n",
    "regressor = LinearRegression()\n",
    "\n",
    "# Training the regressor\n",
    "fit = regressor.fit(X_train, y_train)\n",
    "\n",
    "# Obtaining predicted results from the test data\n",
    "y_pred = fit.predict(X_test)\n",
    "\n",
    "# Plotting the line of best fit\n",
    "plt.figure()\n",
    "plt.grid(True)\n",
    "plt.plot(X,y,\"r.\")\n",
    "plt.plot(X_test,y_pred)\n",
    "plt.title(\"Experience vs Salary\")\n",
    "plt.xlabel(\"Experience\")\n",
    "plt.ylabel(\"Salary\")\n",
    "\n",
    "# Scores the model\n",
    "fit.score(X_test,y_test)"
   ]
  },
  {
   "cell_type": "markdown",
   "metadata": {},
   "source": [
    "### Building your own model\n",
    "The data set \"fish-market.zip\" contains data on the lengths, height and width of fish for various fish species. The function ````pd.read_csv```` can open csv files within zip files so just use the zip file name as the argument for this function. From this csv file create one data frame for each fish species where data for the other species has been removed. Then define a function which splits takes a data frame as the argument. The function should create a linear regression model for the input fish species data frame. For your independent variables use all of the columns other than \"Species\" and \"Weight\". Within the function print the score for the model then return the trained model as output for the function. Run the function once for each of your fish species data frames. Hint: What Pandas functions will help you identify and select specific species? Feel free to refer back to the last workshop if need be!\n",
    "\n",
    "Note: given how small this data set is, expect the score to potentially vary wildly. This happens because often the ````train_test_split```` function might allocate the test data in a region outside the training data. Compare your result to the solutions when you are confident with your function."
   ]
  },
  {
   "cell_type": "code",
   "execution_count": 9,
   "metadata": {
    "scrolled": true
   },
   "outputs": [
    {
     "name": "stdout",
     "output_type": "stream",
     "text": [
      "Regressor score: 0.9618558376199962\n",
      "Regressor score: 0.3692539401518786\n",
      "Regressor score: 0.9624772342833218\n",
      "Regressor score: 0.9058150478037572\n",
      "Regressor score: 0.9350001670435799\n",
      "Regressor score: 0.99655014098317\n",
      "Regressor score: -0.21029594185209155\n"
     ]
    },
    {
     "data": {
      "text/plain": [
       "LinearRegression(copy_X=True, fit_intercept=True, n_jobs=-1, normalize=False)"
      ]
     },
     "execution_count": 9,
     "metadata": {},
     "output_type": "execute_result"
    }
   ],
   "source": [
    "## SOLUTION CODE CELL\n",
    "# Converts data set to data frame\n",
    "df = pd.read_csv(\"Fish.csv\")\n",
    "\n",
    "# Determines unique entries to the Species column\n",
    "df[\"Species\"].unique()\n",
    "\n",
    "# Creates new data frames for each species\n",
    "Bream = df.loc[df[\"Species\"] == \"Bream\"]\n",
    "Roach = df.loc[df[\"Species\"] == \"Roach\"]\n",
    "Whitefish = df.loc[df[\"Species\"] == \"Whitefish\"]\n",
    "Parkki = df.loc[df[\"Species\"] == \"Parkki\"]\n",
    "Perch = df.loc[df[\"Species\"] == \"Perch\"]\n",
    "Pike = df.loc[df[\"Species\"] == \"Pike\"]\n",
    "Smelt = df.loc[df[\"Species\"] == \"Smelt\"]\n",
    "\n",
    "# Defines function that will generate a model for a given fish species\n",
    "def Fish_Weight(df):\n",
    "    '''Takes a data frame for one of the chosen fish species and\n",
    "    creates a linear regression model for that species which is \n",
    "    returned as the function output in the form of a trained regressor.'''\n",
    "    \n",
    "    # Independent variables (mayhaps not entirely independent)\n",
    "    X = df.drop([\"Species\",\"Weight\"],axis=1)\n",
    "    # Dependent variable\n",
    "    y = df[\"Weight\"].values.reshape(-1,1)\n",
    "    \n",
    "    # Splitting into test and training sets\n",
    "    X_train, X_test, y_train, y_test = train_test_split(X,y,test_size=0.2)\n",
    "    \n",
    "    # Choosing our regressor\n",
    "    regressor = LinearRegression(n_jobs=-1)\n",
    "    \n",
    "    # Training\n",
    "    fit = regressor.fit(X_train,y_train)\n",
    "    \n",
    "    # Scoring\n",
    "    score = fit.score(X_test,y_test)\n",
    "    print(\"Regressor score:\", score)\n",
    "    \n",
    "    # Returns trained classifier\n",
    "    return fit\n",
    "\n",
    "# Running the function\n",
    "Fish_Weight(Bream)\n",
    "Fish_Weight(Roach)\n",
    "Fish_Weight(Whitefish)\n",
    "Fish_Weight(Parkki)\n",
    "Fish_Weight(Perch)\n",
    "Fish_Weight(Pike)\n",
    "Fish_Weight(Smelt)"
   ]
  },
  {
   "cell_type": "markdown",
   "metadata": {},
   "source": [
    "Besides the lack of data what might be a problem with our choice of independant variables? If you're stuck on this try using ````df.corr()````. This returns a data frame showing the correlation between all the columns."
   ]
  },
  {
   "cell_type": "code",
   "execution_count": null,
   "metadata": {
    "scrolled": true
   },
   "outputs": [],
   "source": [
    "# Table of correlation between variables\n",
    "df.corr()"
   ]
  },
  {
   "cell_type": "markdown",
   "metadata": {},
   "source": [
    "Above we can see that our choice of independant might not be as independant as we thought. The data frame shows a strong positive correlation between many of the variables we chose to be independant. This is a problem because when we change one of these variables the others are likely to change so we'll have very little notion as to which of these changes is what caused the change in weight which is what we are trying to determine."
   ]
  },
  {
   "cell_type": "markdown",
   "metadata": {},
   "source": [
    "### References:\n",
    "\"Salary_Data.csv\": https://www.kaggle.com/uditkhanna112/linear-regressionsalary-vs-experience\n",
    "\n",
    "\"fish-market.zip\": https://www.kaggle.com/aungpyaeap/fish-market"
   ]
  }
 ],
 "metadata": {
  "kernelspec": {
   "display_name": "Python 3",
   "language": "python",
   "name": "python3"
  },
  "language_info": {
   "codemirror_mode": {
    "name": "ipython",
    "version": 3
   },
   "file_extension": ".py",
   "mimetype": "text/x-python",
   "name": "python",
   "nbconvert_exporter": "python",
   "pygments_lexer": "ipython3",
   "version": "3.7.4"
  }
 },
 "nbformat": 4,
 "nbformat_minor": 2
}
