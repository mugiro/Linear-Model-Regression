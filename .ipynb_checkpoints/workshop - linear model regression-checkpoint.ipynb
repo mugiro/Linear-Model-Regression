{
 "cells": [
  {
   "cell_type": "markdown",
   "metadata": {},
   "source": [
    "## **DS05 - Data Science with Python - Linear Model Regression**"
   ]
  },
  {
   "cell_type": "markdown",
   "metadata": {},
   "source": [
    "In this workshop, we introduce the **Linear Model Regression**. We will go over the concept to understand the underlying theory and create a piece of code for analysing a set of data. In the first part of the workshop, we will use ````Simple Linear Regression````, whereas in the second part we will use ````Multiple Linear Regression````.\n"
   ]
  },
  {
   "cell_type": "markdown",
   "metadata": {},
   "source": [
    "### What is Linear Regression?"
   ]
  },
  {
   "cell_type": "markdown",
   "metadata": {},
   "source": [
    "Linear Regression is a statistical method used for modeling the dependence between two quantities, allowing us to predict behaviour at points where we don't have any data.\n",
    "\n",
    "To start with, we will do a linear fit. This means the model we will be fitting our data to is just a straight line.\n",
    "\n",
    "So, for a set of data points: $(x_i, y_i)$, we can write the equation of the line as:\n",
    "$$y_l(x) = mx_i + c$$ \n",
    "where $y_l$ is the predicted y-value, not the actual y-values of our points.\n",
    "\n",
    "The gradient - **m** and y-intercept - **c** are called fit parameters. By using the method of linear regression (also called the method of least squares fitting), we can calculate the values for the two parameters and plot our line of best fit.\n",
    "\n",
    "For implementing the least squares fit equations into our code, we will have to calculate the slope and intercept of the line of best fit. For this, we will use the following formulas: \n",
    "$$ m = \\frac{\\sum(x_i - \\bar{x}) y_i}{\\sum (x_i - \\bar{x})^2} = \\frac{\\sum x_i (y_i - \\bar{y})}{\\sum x_i (x_i - \\bar{x})} $$\n",
    "\n",
    "$$ c = \\bar{y} - m \\bar{x} $$\n",
    "\n",
    "where $ \\bar{x} $ and $ \\bar{y} $ represent the mean values of the data that we will calculate as ````mean_x````, respectively ````mean_y````."
   ]
  },
  {
   "cell_type": "markdown",
   "metadata": {},
   "source": [
    "Now, let's have a look at something more practical and start writing some code.\n",
    "The first thing we need to do is import our necessary libraries."
   ]
  },
  {
   "cell_type": "markdown",
   "metadata": {},
   "source": [
    "**!** Run the following code cell, to ensure you have the Sci-Kit Learn installed (we will use it later in the workshop). "
   ]
  },
  {
   "cell_type": "code",
   "execution_count": 1,
   "metadata": {},
   "outputs": [
    {
     "name": "stdout",
     "output_type": "stream",
     "text": [
      "Requirement already satisfied: sklearn in c:\\users\\jukss\\anaconda3\\lib\\site-packages (0.0)\n",
      "Requirement already satisfied: scikit-learn in c:\\users\\jukss\\anaconda3\\lib\\site-packages (from sklearn) (0.21.3)\n",
      "Requirement already satisfied: joblib>=0.11 in c:\\users\\jukss\\anaconda3\\lib\\site-packages (from scikit-learn->sklearn) (0.13.2)\n",
      "Requirement already satisfied: numpy>=1.11.0 in c:\\users\\jukss\\anaconda3\\lib\\site-packages (from scikit-learn->sklearn) (1.16.5)\n",
      "Requirement already satisfied: scipy>=0.17.0 in c:\\users\\jukss\\anaconda3\\lib\\site-packages (from scikit-learn->sklearn) (1.3.1)\n"
     ]
    }
   ],
   "source": [
    "!pip install sklearn"
   ]
  },
  {
   "cell_type": "code",
   "execution_count": 2,
   "metadata": {},
   "outputs": [],
   "source": [
    "import numpy as np\n",
    "import pandas as pd\n",
    "import matplotlib.pyplot as plt\n",
    "from sklearn.linear_model import LinearRegression\n",
    "from sklearn.model_selection import train_test_split\n",
    "%matplotlib inline"
   ]
  },
  {
   "cell_type": "markdown",
   "metadata": {},
   "source": [
    "### The Problem\n",
    "Below there are two code cells to extract a set of data and then plot it. The first code cell generates a data frame by reading the csv file \"RegressionData.csv\". Plotting the two arrays reveals a set of data that seems to show some kind of relationship between ````x```` and ````y````. The data here seems to change linearly as ````x```` changes. We can model this using a linear fit.\n"
   ]
  },
  {
   "cell_type": "code",
   "execution_count": 3,
   "metadata": {},
   "outputs": [],
   "source": [
    "# Generates data frame from csv file\n",
    "df = pd.read_csv(\"RegressionData.csv\")\n",
    "\n",
    "# Turning the columns into arrays\n",
    "x = df[\"x\"].values\n",
    "y = df[\"y\"].values"
   ]
  },
  {
   "cell_type": "code",
   "execution_count": 4,
   "metadata": {},
   "outputs": [
    {
     "data": {
      "text/plain": [
       "[<matplotlib.lines.Line2D at 0x2579e50dd88>]"
      ]
     },
     "execution_count": 4,
     "metadata": {},
     "output_type": "execute_result"
    },
    {
     "data": {
      "image/png": "[encoded data removed]",
      "text/plain": [
       "<Figure size 432x288 with 1 Axes>"
      ]
     },
     "metadata": {
      "needs_background": "light"
     },
     "output_type": "display_data"
    }
   ],
   "source": [
    "# Plots the graph from the above data\n",
    "plt.figure()\n",
    "plt.grid(True)\n",
    "plt.plot(x,y,'r.')"
   ]
  },
  {
   "cell_type": "markdown",
   "metadata": {},
   "source": [
    "#### Calculating the gradient and y-intercept."
   ]
  },
  {
   "cell_type": "code",
   "execution_count": 5,
   "metadata": {},
   "outputs": [
    {
     "name": "stdout",
     "output_type": "stream",
     "text": [
      "Gradient: 0.9773554490236189\n",
      "Intercept 0.3332342707666953\n"
     ]
    }
   ],
   "source": [
    "# calculating the means of the x and y data\n",
    "mean_x = np.mean(x) \n",
    "mean_y = np.mean(y)\n",
    "\n",
    "# calculating the slope\n",
    "slope = np.sum((y - mean_y)*x) / np.sum((x - mean_x)*x) \n",
    "print (\"Gradient:\", slope)\n",
    "\n",
    "# calculating the intercept\n",
    "intercept = mean_y - slope*mean_x \n",
    "print (\"Intercept\", intercept)"
   ]
  },
  {
   "cell_type": "markdown",
   "metadata": {},
   "source": [
    "#### Plotting the line of best fit on top of our data"
   ]
  },
  {
   "cell_type": "code",
   "execution_count": 6,
   "metadata": {},
   "outputs": [
    {
     "data": {
      "text/plain": [
       "(-10, 110)"
      ]
     },
     "execution_count": 6,
     "metadata": {},
     "output_type": "execute_result"
    },
    {
     "data": {
      "image/png": "[encoded data removed]",
      "text/plain": [
       "<Figure size 432x288 with 1 Axes>"
      ]
     },
     "metadata": {
      "needs_background": "light"
     },
     "output_type": "display_data"
    }
   ],
   "source": [
    "x_max = max(x)\n",
    "plt.figure(\"\") # start a new figure\n",
    "plt.grid(True) # add a grid\n",
    "# generate two points for the fitted line\n",
    "x_points = np.linspace(0,x_max*2.,2) \n",
    "y_points = slope*x_points + intercept\n",
    "plt.plot(x, y,'r.') # plotting data as points\n",
    "plt.line = plt.plot(x_points, y_points, 'b-') #plotting the line of best fit\n",
    "# setting limits for the axes\n",
    "plt.xlim(-10,110) \n",
    "plt.ylim(-10,110)"
   ]
  },
  {
   "cell_type": "markdown",
   "metadata": {},
   "source": [
    "### Sci-kit Learn\n",
    "\n",
    "A more efficient way we could do this, is by using Python's Sci-kit Learn library.\n",
    "\n",
    "The algorithms we will use today from Sci-Kit Learn are designed to determine the values of $m$ and $c$ so that a line of best fit may be found.\n"
   ]
  },
  {
   "cell_type": "markdown",
   "metadata": {},
   "source": [
    "### Preprocessing the data\n",
    "\n",
    "First of all, we need to prepare our data, which is called reshaping. At the moment, our data is in the shape of a single row, with no columns. This current shape is not helpful for us as the Sci-Kit Learn deals with columns. So, we will use the ````np.reshape(x,(-1,1))```` function to reshape it.\n",
    "\n",
    "It is also worth noting that we typically use a capital ````X```` to denote our features or independent variables and again, we use ````y```` for our dependent variable or label. However, this is an optional step depending on how your data is formatted. For instance, if your ````X```` is a data frame with multiple columns, you won't need to convert it into an array. Anything with one column likely needs to be converted to an array and be reshaped as demonstrated below."
   ]
  },
  {
   "cell_type": "markdown",
   "metadata": {},
   "source": [
    "##### Visualising the shape of our data"
   ]
  },
  {
   "cell_type": "code",
   "execution_count": 7,
   "metadata": {},
   "outputs": [
    {
     "name": "stdout",
     "output_type": "stream",
     "text": [
      "[  0.   2.   4.   6.   8.  10.  12.  14.  16.  18.  20.  22.  24.  26.\n",
      "  28.  30.  32.  34.  36.  38.  40.  42.  44.  46.  48.  50.  52.  54.\n",
      "  56.  58.  60.  62.  64.  66.  68.  70.  72.  74.  76.  78.  80.  82.\n",
      "  84.  86.  88.  90.  92.  94.  96.  98. 100.]\n",
      "[  0.65591658  -0.5482752    7.63253391   8.19598614   0.53744705\n",
      "  13.0218931   13.26871136  16.70618777  10.31111803   8.97678547\n",
      "  21.78688936  19.03096869  26.52686536  34.67511388  33.55368481\n",
      "  20.71044441  39.71977804  24.64446733  42.47503722  39.45011526\n",
      "  40.31951772  39.62612559  49.24208696  36.98153367  40.93415442\n",
      "  57.87415451  53.97155638  55.27096672  59.31954904  59.49690638\n",
      "  58.21257686  52.69694868  60.886796    60.97044952  68.9296652\n",
      "  73.41489439  69.32916719  65.11032816  67.02613088  75.93690024\n",
      "  86.61596394  84.0352415   75.22931319  78.92167603  91.64027473\n",
      "  91.59972973  97.07813901 103.44848082  87.71868424  91.24425745\n",
      "  94.83750507]\n"
     ]
    }
   ],
   "source": [
    "# Original shape of x and y\n",
    "print(x)\n",
    "print(y)"
   ]
  },
  {
   "cell_type": "markdown",
   "metadata": {},
   "source": [
    "##### Reshaping the data"
   ]
  },
  {
   "cell_type": "code",
   "execution_count": 11,
   "metadata": {},
   "outputs": [
    {
     "name": "stdout",
     "output_type": "stream",
     "text": [
      "[[  0.]\n",
      " [  2.]\n",
      " [  4.]\n",
      " [  6.]\n",
      " [  8.]\n",
      " [ 10.]\n",
      " [ 12.]\n",
      " [ 14.]\n",
      " [ 16.]\n",
      " [ 18.]\n",
      " [ 20.]\n",
      " [ 22.]\n",
      " [ 24.]\n",
      " [ 26.]\n",
      " [ 28.]\n",
      " [ 30.]\n",
      " [ 32.]\n",
      " [ 34.]\n",
      " [ 36.]\n",
      " [ 38.]\n",
      " [ 40.]\n",
      " [ 42.]\n",
      " [ 44.]\n",
      " [ 46.]\n",
      " [ 48.]\n",
      " [ 50.]\n",
      " [ 52.]\n",
      " [ 54.]\n",
      " [ 56.]\n",
      " [ 58.]\n",
      " [ 60.]\n",
      " [ 62.]\n",
      " [ 64.]\n",
      " [ 66.]\n",
      " [ 68.]\n",
      " [ 70.]\n",
      " [ 72.]\n",
      " [ 74.]\n",
      " [ 76.]\n",
      " [ 78.]\n",
      " [ 80.]\n",
      " [ 82.]\n",
      " [ 84.]\n",
      " [ 86.]\n",
      " [ 88.]\n",
      " [ 90.]\n",
      " [ 92.]\n",
      " [ 94.]\n",
      " [ 96.]\n",
      " [ 98.]\n",
      " [100.]]\n",
      "[[  0.65591658]\n",
      " [ -0.5482752 ]\n",
      " [  7.63253391]\n",
      " [  8.19598614]\n",
      " [  0.53744705]\n",
      " [ 13.0218931 ]\n",
      " [ 13.26871136]\n",
      " [ 16.70618777]\n",
      " [ 10.31111803]\n",
      " [  8.97678547]\n",
      " [ 21.78688936]\n",
      " [ 19.03096869]\n",
      " [ 26.52686536]\n",
      " [ 34.67511388]\n",
      " [ 33.55368481]\n",
      " [ 20.71044441]\n",
      " [ 39.71977804]\n",
      " [ 24.64446733]\n",
      " [ 42.47503722]\n",
      " [ 39.45011526]\n",
      " [ 40.31951772]\n",
      " [ 39.62612559]\n",
      " [ 49.24208696]\n",
      " [ 36.98153367]\n",
      " [ 40.93415442]\n",
      " [ 57.87415451]\n",
      " [ 53.97155638]\n",
      " [ 55.27096672]\n",
      " [ 59.31954904]\n",
      " [ 59.49690638]\n",
      " [ 58.21257686]\n",
      " [ 52.69694868]\n",
      " [ 60.886796  ]\n",
      " [ 60.97044952]\n",
      " [ 68.9296652 ]\n",
      " [ 73.41489439]\n",
      " [ 69.32916719]\n",
      " [ 65.11032816]\n",
      " [ 67.02613088]\n",
      " [ 75.93690024]\n",
      " [ 86.61596394]\n",
      " [ 84.0352415 ]\n",
      " [ 75.22931319]\n",
      " [ 78.92167603]\n",
      " [ 91.64027473]\n",
      " [ 91.59972973]\n",
      " [ 97.07813901]\n",
      " [103.44848082]\n",
      " [ 87.71868424]\n",
      " [ 91.24425745]\n",
      " [ 94.83750507]]\n"
     ]
    }
   ],
   "source": [
    "# Independant variable or features\n",
    "X = x.reshape(-1,1)\n",
    "\n",
    "# Dependant variable or labels\n",
    "y = y.reshape(-1,1)\n",
    "\n",
    "# Reshaped X and y\n",
    "print(X)\n",
    "print(y)"
   ]
  },
  {
   "cell_type": "markdown",
   "metadata": {},
   "source": [
    "#### Seperating into Training and Test Sets\n",
    "Here we split our data into training sets and test sets for each variable using the ````train_test_split```` function. The input is represented by the two variables and an additional argument - the ratio at which the data is split. Here we passed ````test_size = 0.2```` so $20\\%$ of the data is allocated to the test set while $80\\%$ is allocated to the training set."
   ]
  },
  {
   "cell_type": "code",
   "execution_count": 12,
   "metadata": {},
   "outputs": [],
   "source": [
    "# Seperates the data into test and training sets \n",
    "X_train, X_test, y_train, y_test = train_test_split(X, y, test_size=0.2)"
   ]
  },
  {
   "cell_type": "code",
   "execution_count": 13,
   "metadata": {},
   "outputs": [
    {
     "data": {
      "image/png": "[encoded data removed]",
      "text/plain": [
       "<Figure size 432x288 with 1 Axes>"
      ]
     },
     "metadata": {
      "needs_background": "light"
     },
     "output_type": "display_data"
    }
   ],
   "source": [
    "# Plotting the training and testing splits\n",
    "plt.scatter(X_train, y_train, label = \"Training Data\", color = 'r')\n",
    "plt.scatter(X_test, y_test, label = \"Testing Data\", color = 'b')\n",
    "plt.legend()\n",
    "plt.grid(\"True\")\n",
    "plt.title(\"Test/Train Split\")\n",
    "plt.show()"
   ]
  },
  {
   "cell_type": "markdown",
   "metadata": {},
   "source": [
    "### Training the Regressor\n",
    "We begin by defining a ````regressor```` variable by calling the ````LinearRegression```` function. Then, we pass ````regressor.fit(X_train, y_train)````. This passes our training data into the regressor in order to train it. For the linear regression algorithm, training it means finding the values of $m$ and $c$ from the equation for the line of best fit."
   ]
  },
  {
   "cell_type": "code",
   "execution_count": 14,
   "metadata": {},
   "outputs": [],
   "source": [
    "# Defining our regressor\n",
    "regressor = LinearRegression()\n",
    "\n",
    "# Train the regressor\n",
    "fit = regressor.fit(X_train, y_train)"
   ]
  },
  {
   "cell_type": "markdown",
   "metadata": {},
   "source": [
    "#### Returning the Gradient and the Intercept\n",
    "Having trained the regressor we can now return the values of the gradient and intercept. These are simply the attributes ````.coef_```` and ````.intercept_```` of the variable we have used to define our trained regressor. In our case we defined it as ````fit````."
   ]
  },
  {
   "cell_type": "code",
   "execution_count": 15,
   "metadata": {
    "scrolled": true
   },
   "outputs": [
    {
     "name": "stdout",
     "output_type": "stream",
     "text": [
      "Gradient: [[0.97828872]]\n",
      "Intercept: [-0.06997086]\n"
     ]
    }
   ],
   "source": [
    "# Returns gradient and intercept\n",
    "print(\"Gradient:\",fit.coef_)\n",
    "print(\"Intercept:\",fit.intercept_)"
   ]
  },
  {
   "cell_type": "markdown",
   "metadata": {},
   "source": [
    "### Line of Best Fit Values\n",
    "Now that we've trained our regressor, we can obtain the values for the line of best fit. We do this by passing through a set of points into ````regressor.predict````. For each point, the regressor predicts a value based on the line of best fit that was obtained. Essentially, the input is passed through the equation: $ y = mx + c $, where the values of $m$ and $c$ are given by ````fit.coef_```` and ````fit.intercept_```` respectively. The code cell below uses the ````regressor.predict```` to obtain a predicted set of values. Then, we obtain another set of values by explicitly substituting in the formula for our line of best fit. We subtract the two sets away from one another to demonstrate that the ````regressor.predict```` function did indeed do the same thing."
   ]
  },
  {
   "cell_type": "code",
   "execution_count": 16,
   "metadata": {},
   "outputs": [
    {
     "data": {
      "text/plain": [
       "array([[0.],\n",
       "       [0.],\n",
       "       [0.],\n",
       "       [0.],\n",
       "       [0.],\n",
       "       [0.],\n",
       "       [0.],\n",
       "       [0.],\n",
       "       [0.],\n",
       "       [0.],\n",
       "       [0.]])"
      ]
     },
     "execution_count": 16,
     "metadata": {},
     "output_type": "execute_result"
    }
   ],
   "source": [
    "# Predicted values \n",
    "y_pred = regressor.predict(X_test)\n",
    "\n",
    "# y = m*x + c\n",
    "best_fit_line = fit.coef_*X_test + fit.intercept_\n",
    "\n",
    "# Comparing the two\n",
    "y_pred - best_fit_line"
   ]
  },
  {
   "cell_type": "markdown",
   "metadata": {},
   "source": [
    "### Plotting the Line of Best Fit\n",
    "Below, we plot the line of best fit against the original data. Doing this enables us to make predictions about what ````y```` value we'd obtain for a ````x```` value within the interval covered, but not actually recorded in the data set. This is known as interpolation. Our line in effect is a prediction of what the value of ````y```` is as ````x```` changes."
   ]
  },
  {
   "cell_type": "code",
   "execution_count": 17,
   "metadata": {},
   "outputs": [
    {
     "data": {
      "image/png": "[encoded data removed]",
      "text/plain": [
       "<Figure size 432x288 with 1 Axes>"
      ]
     },
     "metadata": {
      "needs_background": "light"
     },
     "output_type": "display_data"
    }
   ],
   "source": [
    "# Plot of the data with the line of best fit\n",
    "plt.plot(X_test,y_pred)\n",
    "plt.plot(x,y,'r.')\n",
    "plt.grid(True)"
   ]
  },
  {
   "cell_type": "markdown",
   "metadata": {},
   "source": [
    "### Scoring the Model\n",
    "Let us compare the predicted results with the actual values by putting them into a data frame. Note the need for the slicing occurs because ````pd.DataFrame```` takes arrays as rows rather than columns. Since we converted the arrays to columns at the start we need to undo this to convert to a data frame."
   ]
  },
  {
   "cell_type": "code",
   "execution_count": 18,
   "metadata": {},
   "outputs": [
    {
     "data": {
      "text/html": [
       "<div>\n",
       "<style scoped>\n",
       "    .dataframe tbody tr th:only-of-type {\n",
       "        vertical-align: middle;\n",
       "    }\n",
       "\n",
       "    .dataframe tbody tr th {\n",
       "        vertical-align: top;\n",
       "    }\n",
       "\n",
       "    .dataframe thead th {\n",
       "        text-align: right;\n",
       "    }\n",
       "</style>\n",
       "<table border=\"1\" class=\"dataframe\">\n",
       "  <thead>\n",
       "    <tr style=\"text-align: right;\">\n",
       "      <th></th>\n",
       "      <th>Predicted</th>\n",
       "      <th>Actual</th>\n",
       "    </tr>\n",
       "  </thead>\n",
       "  <tbody>\n",
       "    <tr>\n",
       "      <td>0</td>\n",
       "      <td>91.889169</td>\n",
       "      <td>103.448481</td>\n",
       "    </tr>\n",
       "    <tr>\n",
       "      <td>1</td>\n",
       "      <td>97.758901</td>\n",
       "      <td>94.837505</td>\n",
       "    </tr>\n",
       "    <tr>\n",
       "      <td>2</td>\n",
       "      <td>25.365536</td>\n",
       "      <td>34.675114</td>\n",
       "    </tr>\n",
       "    <tr>\n",
       "      <td>3</td>\n",
       "      <td>50.801043</td>\n",
       "      <td>53.971556</td>\n",
       "    </tr>\n",
       "    <tr>\n",
       "      <td>4</td>\n",
       "      <td>66.453662</td>\n",
       "      <td>68.929665</td>\n",
       "    </tr>\n",
       "    <tr>\n",
       "      <td>5</td>\n",
       "      <td>44.931310</td>\n",
       "      <td>36.981534</td>\n",
       "    </tr>\n",
       "    <tr>\n",
       "      <td>6</td>\n",
       "      <td>84.062859</td>\n",
       "      <td>78.921676</td>\n",
       "    </tr>\n",
       "    <tr>\n",
       "      <td>7</td>\n",
       "      <td>48.844465</td>\n",
       "      <td>57.874155</td>\n",
       "    </tr>\n",
       "    <tr>\n",
       "      <td>8</td>\n",
       "      <td>58.627353</td>\n",
       "      <td>58.212577</td>\n",
       "    </tr>\n",
       "    <tr>\n",
       "      <td>9</td>\n",
       "      <td>95.802324</td>\n",
       "      <td>91.244257</td>\n",
       "    </tr>\n",
       "    <tr>\n",
       "      <td>10</td>\n",
       "      <td>87.976014</td>\n",
       "      <td>91.599730</td>\n",
       "    </tr>\n",
       "  </tbody>\n",
       "</table>\n",
       "</div>"
      ],
      "text/plain": [
       "    Predicted      Actual\n",
       "0   91.889169  103.448481\n",
       "1   97.758901   94.837505\n",
       "2   25.365536   34.675114\n",
       "3   50.801043   53.971556\n",
       "4   66.453662   68.929665\n",
       "5   44.931310   36.981534\n",
       "6   84.062859   78.921676\n",
       "7   48.844465   57.874155\n",
       "8   58.627353   58.212577\n",
       "9   95.802324   91.244257\n",
       "10  87.976014   91.599730"
      ]
     },
     "execution_count": 18,
     "metadata": {},
     "output_type": "execute_result"
    }
   ],
   "source": [
    "# Converts predicted values and test values to a data frame\n",
    "df = pd.DataFrame({\"Predicted\": y_pred[:,0], \"Actual\": y_test[:,0]})\n",
    "df"
   ]
  },
  {
   "cell_type": "markdown",
   "metadata": {},
   "source": [
    "We can provide a score of our model by passing ````regressor.score(X_test,y_test)````. This is data that our regressor hasn't seen yet, which means it can provide a basis with which to test the results. The best score you can obtain for the model is $1$. The lower the score, the worse a fit the model is to the data."
   ]
  },
  {
   "cell_type": "code",
   "execution_count": 19,
   "metadata": {},
   "outputs": [
    {
     "name": "stdout",
     "output_type": "stream",
     "text": [
      "0.9198164613886793\n"
     ]
    }
   ],
   "source": [
    "# Determines a score for our model\n",
    "score = regressor.score(X_test, y_test)\n",
    "print(score)"
   ]
  },
  {
   "cell_type": "markdown",
   "metadata": {},
   "source": [
    "### Multiple Linear Regression\n",
    "The example used above involved only two variables. However, in the real world it is highly unlikely that a label or dependant variable would depend on only one feature or independant variable. The equation for the value of $y$ in such an instance can be generalised as follows:\n",
    "$$ y = c + m_1 x_1 + m_2 x_2 + ... m_n x_n + \\epsilon $$\n",
    "The equation is similar to the one before except we have multiple values for the gradient and we also have an additional $\\epsilon$ term which is the error. In essence, the $\\epsilon$ accounts for any potential data points that might not be a fit for the linear model.\n",
    "\n",
    "Below, we will have a look at an example on how a linear regression problem with multiple features works. The dataset in question is about different types of advertising and their effect on sales. The independent variables are given by the \"TV\", \"Radio\" and \"Newspaper\" columns while \"Sales\" is our dependent variable."
   ]
  },
  {
   "cell_type": "code",
   "execution_count": 22,
   "metadata": {},
   "outputs": [
    {
     "data": {
      "text/html": [
       "<div>\n",
       "<style scoped>\n",
       "    .dataframe tbody tr th:only-of-type {\n",
       "        vertical-align: middle;\n",
       "    }\n",
       "\n",
       "    .dataframe tbody tr th {\n",
       "        vertical-align: top;\n",
       "    }\n",
       "\n",
       "    .dataframe thead th {\n",
       "        text-align: right;\n",
       "    }\n",
       "</style>\n",
       "<table border=\"1\" class=\"dataframe\">\n",
       "  <thead>\n",
       "    <tr style=\"text-align: right;\">\n",
       "      <th></th>\n",
       "      <th>TV</th>\n",
       "      <th>Radio</th>\n",
       "      <th>Newspaper</th>\n",
       "      <th>Sales</th>\n",
       "    </tr>\n",
       "  </thead>\n",
       "  <tbody>\n",
       "    <tr>\n",
       "      <td>0</td>\n",
       "      <td>230.1</td>\n",
       "      <td>37.8</td>\n",
       "      <td>69.2</td>\n",
       "      <td>22.1</td>\n",
       "    </tr>\n",
       "    <tr>\n",
       "      <td>1</td>\n",
       "      <td>44.5</td>\n",
       "      <td>39.3</td>\n",
       "      <td>45.1</td>\n",
       "      <td>10.4</td>\n",
       "    </tr>\n",
       "    <tr>\n",
       "      <td>2</td>\n",
       "      <td>17.2</td>\n",
       "      <td>45.9</td>\n",
       "      <td>69.3</td>\n",
       "      <td>12.0</td>\n",
       "    </tr>\n",
       "    <tr>\n",
       "      <td>3</td>\n",
       "      <td>151.5</td>\n",
       "      <td>41.3</td>\n",
       "      <td>58.5</td>\n",
       "      <td>16.5</td>\n",
       "    </tr>\n",
       "    <tr>\n",
       "      <td>4</td>\n",
       "      <td>180.8</td>\n",
       "      <td>10.8</td>\n",
       "      <td>58.4</td>\n",
       "      <td>17.9</td>\n",
       "    </tr>\n",
       "    <tr>\n",
       "      <td>...</td>\n",
       "      <td>...</td>\n",
       "      <td>...</td>\n",
       "      <td>...</td>\n",
       "      <td>...</td>\n",
       "    </tr>\n",
       "    <tr>\n",
       "      <td>195</td>\n",
       "      <td>38.2</td>\n",
       "      <td>3.7</td>\n",
       "      <td>13.8</td>\n",
       "      <td>7.6</td>\n",
       "    </tr>\n",
       "    <tr>\n",
       "      <td>196</td>\n",
       "      <td>94.2</td>\n",
       "      <td>4.9</td>\n",
       "      <td>8.1</td>\n",
       "      <td>14.0</td>\n",
       "    </tr>\n",
       "    <tr>\n",
       "      <td>197</td>\n",
       "      <td>177.0</td>\n",
       "      <td>9.3</td>\n",
       "      <td>6.4</td>\n",
       "      <td>14.8</td>\n",
       "    </tr>\n",
       "    <tr>\n",
       "      <td>198</td>\n",
       "      <td>283.6</td>\n",
       "      <td>42.0</td>\n",
       "      <td>66.2</td>\n",
       "      <td>25.5</td>\n",
       "    </tr>\n",
       "    <tr>\n",
       "      <td>199</td>\n",
       "      <td>232.1</td>\n",
       "      <td>8.6</td>\n",
       "      <td>8.7</td>\n",
       "      <td>18.4</td>\n",
       "    </tr>\n",
       "  </tbody>\n",
       "</table>\n",
       "<p>200 rows × 4 columns</p>\n",
       "</div>"
      ],
      "text/plain": [
       "        TV  Radio  Newspaper  Sales\n",
       "0    230.1   37.8       69.2   22.1\n",
       "1     44.5   39.3       45.1   10.4\n",
       "2     17.2   45.9       69.3   12.0\n",
       "3    151.5   41.3       58.5   16.5\n",
       "4    180.8   10.8       58.4   17.9\n",
       "..     ...    ...        ...    ...\n",
       "195   38.2    3.7       13.8    7.6\n",
       "196   94.2    4.9        8.1   14.0\n",
       "197  177.0    9.3        6.4   14.8\n",
       "198  283.6   42.0       66.2   25.5\n",
       "199  232.1    8.6        8.7   18.4\n",
       "\n",
       "[200 rows x 4 columns]"
      ]
     },
     "execution_count": 22,
     "metadata": {},
     "output_type": "execute_result"
    }
   ],
   "source": [
    "# Converts advertising csv to a data frame\n",
    "df = pd.read_csv(\"advertising.csv\")\n",
    "df"
   ]
  },
  {
   "cell_type": "markdown",
   "metadata": {},
   "source": [
    "The process for applying the linear regression algorithm when you have multiple independent variables is very similar to that for our original case. The key difference being that ````X```` will consist of more than one column, so converting to a Numpy array and reshaping it is not required. Once we have ````X```` and ````y````, the procedure for splitting the data into training and test sets then training the regressor and so forth is the same as before."
   ]
  },
  {
   "cell_type": "code",
   "execution_count": 24,
   "metadata": {},
   "outputs": [],
   "source": [
    "# Independent variables\n",
    "X = df.drop(\"Sales\",axis=1)\n",
    "\n",
    "# Dependent variable\n",
    "y = df[\"Sales\"].values.reshape(-1,1)\n",
    "\n",
    "# Splitting into test and training data\n",
    "X_train, X_test, y_train, y_test = train_test_split(X,y,test_size=0.2)"
   ]
  },
  {
   "cell_type": "code",
   "execution_count": 25,
   "metadata": {},
   "outputs": [
    {
     "data": {
      "text/plain": [
       "0.9088290464799544"
      ]
     },
     "execution_count": 25,
     "metadata": {},
     "output_type": "execute_result"
    }
   ],
   "source": [
    "# Defining regressor\n",
    "regressor = LinearRegression()\n",
    "\n",
    "# Training our regressor\n",
    "fit = regressor.fit(X_train,y_train)\n",
    "\n",
    "# Predicting values\n",
    "y_pred = fit.predict(X_test)\n",
    "\n",
    "# Scoring our regressor\n",
    "fit.score(X_test,y_test)\n"
   ]
  },
  {
   "cell_type": "code",
   "execution_count": 26,
   "metadata": {},
   "outputs": [
    {
     "data": {
      "text/html": [
       "<div>\n",
       "<style scoped>\n",
       "    .dataframe tbody tr th:only-of-type {\n",
       "        vertical-align: middle;\n",
       "    }\n",
       "\n",
       "    .dataframe tbody tr th {\n",
       "        vertical-align: top;\n",
       "    }\n",
       "\n",
       "    .dataframe thead th {\n",
       "        text-align: right;\n",
       "    }\n",
       "</style>\n",
       "<table border=\"1\" class=\"dataframe\">\n",
       "  <thead>\n",
       "    <tr style=\"text-align: right;\">\n",
       "      <th></th>\n",
       "      <th>Predicted</th>\n",
       "      <th>Actual</th>\n",
       "    </tr>\n",
       "  </thead>\n",
       "  <tbody>\n",
       "    <tr>\n",
       "      <td>0</td>\n",
       "      <td>18.056886</td>\n",
       "      <td>18.4</td>\n",
       "    </tr>\n",
       "    <tr>\n",
       "      <td>1</td>\n",
       "      <td>11.423908</td>\n",
       "      <td>10.4</td>\n",
       "    </tr>\n",
       "    <tr>\n",
       "      <td>2</td>\n",
       "      <td>10.968099</td>\n",
       "      <td>11.3</td>\n",
       "    </tr>\n",
       "    <tr>\n",
       "      <td>3</td>\n",
       "      <td>9.403303</td>\n",
       "      <td>7.3</td>\n",
       "    </tr>\n",
       "    <tr>\n",
       "      <td>4</td>\n",
       "      <td>9.952576</td>\n",
       "      <td>10.1</td>\n",
       "    </tr>\n",
       "    <tr>\n",
       "      <td>5</td>\n",
       "      <td>9.862802</td>\n",
       "      <td>9.2</td>\n",
       "    </tr>\n",
       "    <tr>\n",
       "      <td>6</td>\n",
       "      <td>21.323071</td>\n",
       "      <td>19.8</td>\n",
       "    </tr>\n",
       "    <tr>\n",
       "      <td>7</td>\n",
       "      <td>17.650101</td>\n",
       "      <td>16.9</td>\n",
       "    </tr>\n",
       "    <tr>\n",
       "      <td>8</td>\n",
       "      <td>16.985160</td>\n",
       "      <td>17.2</td>\n",
       "    </tr>\n",
       "    <tr>\n",
       "      <td>9</td>\n",
       "      <td>9.418152</td>\n",
       "      <td>6.6</td>\n",
       "    </tr>\n",
       "    <tr>\n",
       "      <td>10</td>\n",
       "      <td>18.735096</td>\n",
       "      <td>18.3</td>\n",
       "    </tr>\n",
       "    <tr>\n",
       "      <td>11</td>\n",
       "      <td>16.936551</td>\n",
       "      <td>16.9</td>\n",
       "    </tr>\n",
       "    <tr>\n",
       "      <td>12</td>\n",
       "      <td>8.133554</td>\n",
       "      <td>5.7</td>\n",
       "    </tr>\n",
       "    <tr>\n",
       "      <td>13</td>\n",
       "      <td>12.391820</td>\n",
       "      <td>10.3</td>\n",
       "    </tr>\n",
       "    <tr>\n",
       "      <td>14</td>\n",
       "      <td>16.437431</td>\n",
       "      <td>16.0</td>\n",
       "    </tr>\n",
       "    <tr>\n",
       "      <td>15</td>\n",
       "      <td>19.147873</td>\n",
       "      <td>17.0</td>\n",
       "    </tr>\n",
       "    <tr>\n",
       "      <td>16</td>\n",
       "      <td>15.816486</td>\n",
       "      <td>17.5</td>\n",
       "    </tr>\n",
       "    <tr>\n",
       "      <td>17</td>\n",
       "      <td>15.579354</td>\n",
       "      <td>17.9</td>\n",
       "    </tr>\n",
       "    <tr>\n",
       "      <td>18</td>\n",
       "      <td>9.563203</td>\n",
       "      <td>12.0</td>\n",
       "    </tr>\n",
       "    <tr>\n",
       "      <td>19</td>\n",
       "      <td>21.883394</td>\n",
       "      <td>24.7</td>\n",
       "    </tr>\n",
       "    <tr>\n",
       "      <td>20</td>\n",
       "      <td>21.070601</td>\n",
       "      <td>20.0</td>\n",
       "    </tr>\n",
       "    <tr>\n",
       "      <td>21</td>\n",
       "      <td>15.225542</td>\n",
       "      <td>15.5</td>\n",
       "    </tr>\n",
       "    <tr>\n",
       "      <td>22</td>\n",
       "      <td>10.455099</td>\n",
       "      <td>8.7</td>\n",
       "    </tr>\n",
       "    <tr>\n",
       "      <td>23</td>\n",
       "      <td>9.767660</td>\n",
       "      <td>8.8</td>\n",
       "    </tr>\n",
       "    <tr>\n",
       "      <td>24</td>\n",
       "      <td>8.646035</td>\n",
       "      <td>8.4</td>\n",
       "    </tr>\n",
       "    <tr>\n",
       "      <td>25</td>\n",
       "      <td>15.095347</td>\n",
       "      <td>15.2</td>\n",
       "    </tr>\n",
       "    <tr>\n",
       "      <td>26</td>\n",
       "      <td>20.887205</td>\n",
       "      <td>22.6</td>\n",
       "    </tr>\n",
       "    <tr>\n",
       "      <td>27</td>\n",
       "      <td>13.449277</td>\n",
       "      <td>14.0</td>\n",
       "    </tr>\n",
       "    <tr>\n",
       "      <td>28</td>\n",
       "      <td>12.578625</td>\n",
       "      <td>11.9</td>\n",
       "    </tr>\n",
       "    <tr>\n",
       "      <td>29</td>\n",
       "      <td>19.260424</td>\n",
       "      <td>19.0</td>\n",
       "    </tr>\n",
       "    <tr>\n",
       "      <td>30</td>\n",
       "      <td>8.976951</td>\n",
       "      <td>11.9</td>\n",
       "    </tr>\n",
       "    <tr>\n",
       "      <td>31</td>\n",
       "      <td>9.960269</td>\n",
       "      <td>11.9</td>\n",
       "    </tr>\n",
       "    <tr>\n",
       "      <td>32</td>\n",
       "      <td>24.530881</td>\n",
       "      <td>25.5</td>\n",
       "    </tr>\n",
       "    <tr>\n",
       "      <td>33</td>\n",
       "      <td>18.341549</td>\n",
       "      <td>18.2</td>\n",
       "    </tr>\n",
       "    <tr>\n",
       "      <td>34</td>\n",
       "      <td>8.870340</td>\n",
       "      <td>12.6</td>\n",
       "    </tr>\n",
       "    <tr>\n",
       "      <td>35</td>\n",
       "      <td>23.130163</td>\n",
       "      <td>25.4</td>\n",
       "    </tr>\n",
       "    <tr>\n",
       "      <td>36</td>\n",
       "      <td>8.274842</td>\n",
       "      <td>5.3</td>\n",
       "    </tr>\n",
       "    <tr>\n",
       "      <td>37</td>\n",
       "      <td>21.524596</td>\n",
       "      <td>20.9</td>\n",
       "    </tr>\n",
       "    <tr>\n",
       "      <td>38</td>\n",
       "      <td>9.571078</td>\n",
       "      <td>9.7</td>\n",
       "    </tr>\n",
       "    <tr>\n",
       "      <td>39</td>\n",
       "      <td>12.108536</td>\n",
       "      <td>11.6</td>\n",
       "    </tr>\n",
       "  </tbody>\n",
       "</table>\n",
       "</div>"
      ],
      "text/plain": [
       "    Predicted  Actual\n",
       "0   18.056886    18.4\n",
       "1   11.423908    10.4\n",
       "2   10.968099    11.3\n",
       "3    9.403303     7.3\n",
       "4    9.952576    10.1\n",
       "5    9.862802     9.2\n",
       "6   21.323071    19.8\n",
       "7   17.650101    16.9\n",
       "8   16.985160    17.2\n",
       "9    9.418152     6.6\n",
       "10  18.735096    18.3\n",
       "11  16.936551    16.9\n",
       "12   8.133554     5.7\n",
       "13  12.391820    10.3\n",
       "14  16.437431    16.0\n",
       "15  19.147873    17.0\n",
       "16  15.816486    17.5\n",
       "17  15.579354    17.9\n",
       "18   9.563203    12.0\n",
       "19  21.883394    24.7\n",
       "20  21.070601    20.0\n",
       "21  15.225542    15.5\n",
       "22  10.455099     8.7\n",
       "23   9.767660     8.8\n",
       "24   8.646035     8.4\n",
       "25  15.095347    15.2\n",
       "26  20.887205    22.6\n",
       "27  13.449277    14.0\n",
       "28  12.578625    11.9\n",
       "29  19.260424    19.0\n",
       "30   8.976951    11.9\n",
       "31   9.960269    11.9\n",
       "32  24.530881    25.5\n",
       "33  18.341549    18.2\n",
       "34   8.870340    12.6\n",
       "35  23.130163    25.4\n",
       "36   8.274842     5.3\n",
       "37  21.524596    20.9\n",
       "38   9.571078     9.7\n",
       "39  12.108536    11.6"
      ]
     },
     "execution_count": 26,
     "metadata": {},
     "output_type": "execute_result"
    }
   ],
   "source": [
    "# Comparing predicted against actual values\n",
    "df = pd.DataFrame({\"Predicted\": y_pred[:,0], \"Actual\": y_test[:,0]})\n",
    "df"
   ]
  },
  {
   "cell_type": "code",
   "execution_count": null,
   "metadata": {},
   "outputs": [],
   "source": []
  }
 ],
 "metadata": {
  "kernelspec": {
   "display_name": "Python 3",
   "language": "python",
   "name": "python3"
  },
  "language_info": {
   "codemirror_mode": {
    "name": "ipython",
    "version": 3
   },
   "file_extension": ".py",
   "mimetype": "text/x-python",
   "name": "python",
   "nbconvert_exporter": "python",
   "pygments_lexer": "ipython3",
   "version": "3.7.4"
  }
 },
 "nbformat": 4,
 "nbformat_minor": 2
}
